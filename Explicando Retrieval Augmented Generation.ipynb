{
 "cells": [
  {
   "cell_type": "markdown",
   "id": "abcb1df3-9a2f-488d-b849-27e9f1490ea9",
   "metadata": {},
   "source": [
    "# Explicando Retrieval Augmented Generation\n",
    "\n",
    "Neste exemplo, vamos carregar um PDF com prospecto de um fundo de investimento para utilizá-lo como base de conhecimento para tratamentos de dúvidas.\n",
    "\n",
    "Utilizaremos os modelos da OpenAI para gerar embeddings e respostas.\n",
    "\n",
    "Os dados vetorizados serão armazenados no Astra/Cassandra para busca baseada na similaridade de vetores (Vector Search)."
   ]
  },
  {
   "cell_type": "markdown",
   "id": "26fd02e3-937c-4a36-8b0c-efcbfda6bca8",
   "metadata": {},
   "source": [
    "## Hands-on: Setup / Configurando ambiente\n",
    "\n",
    "Inicialmente, vamos instalar e configurar o ambiente para execução dos modelos"
   ]
  },
  {
   "cell_type": "code",
   "execution_count": null,
   "id": "9323a946-3fe3-4422-9d2e-335c0359be4b",
   "metadata": {},
   "outputs": [],
   "source": [
    "pip install langchain llama-index openai cassio --upgrade "
   ]
  },
  {
   "cell_type": "code",
   "execution_count": 4,
   "id": "3a7ed542-8ddf-4e70-b03d-39853fa4392b",
   "metadata": {},
   "outputs": [
    {
     "data": {
      "text/plain": [
       "True"
      ]
     },
     "execution_count": 4,
     "metadata": {},
     "output_type": "execute_result"
    }
   ],
   "source": [
    "# Carregando variáveis de ambiente\n",
    "from dotenv import load_dotenv, find_dotenv\n",
    "import os\n",
    "load_dotenv(find_dotenv(), override=True)"
   ]
  },
  {
   "cell_type": "markdown",
   "id": "d68b4d8f-e1f2-4db6-a600-5bcc764efd08",
   "metadata": {},
   "source": [
    "### Conectando ao Astra/Cassandra\n",
    "\n",
    "Para utilizar o Cassandra como Vector DB, crie um banco de dados com suporte a vvector search em astra.datastax.com, gere um token de conexão e identifique o seu DB ID. Com isso, execute o comando abaixo para criar a conexão"
   ]
  },
  {
   "cell_type": "code",
   "execution_count": 5,
   "id": "3b977126-a3e5-48ab-8801-87a57034e38e",
   "metadata": {},
   "outputs": [],
   "source": [
    "import cassio\n",
    "\n",
    "cassio.init(token=os.environ[\"ASTRA_DB_APPLICATION_TOKEN\"], database_id=os.environ[\"ASTRA_DB_ID\"])"
   ]
  },
  {
   "cell_type": "markdown",
   "id": "de8559d8-a667-4339-be3c-a683c08abce2",
   "metadata": {},
   "source": [
    "Pronto!\n",
    "\n",
    "A conexão com o Astra é muito simples e você já pode armazenar seus documentos."
   ]
  },
  {
   "cell_type": "markdown",
   "id": "d34f4f2d-98d9-4cef-8db3-c12de364ef53",
   "metadata": {},
   "source": [
    "### LangChain, Cassandra como Vector Store e OpenAI"
   ]
  },
  {
   "cell_type": "code",
   "execution_count": 6,
   "id": "c1f0b72b-d2f6-4b1f-81d4-122e59bbc745",
   "metadata": {},
   "outputs": [],
   "source": [
    "# Importando o índice, separadores de texto, e auxiliares para processamendo dos documentos\n",
    "from langchain.indexes.vectorstore import VectorStoreIndexWrapper\n",
    "from langchain.indexes.vectorstore import VectorstoreIndexCreator\n",
    "from langchain.text_splitter import (\n",
    "    CharacterTextSplitter,\n",
    "    RecursiveCharacterTextSplitter,\n",
    ")\n",
    "from langchain.docstore.document import Document\n",
    "from langchain.document_loaders import PyPDFLoader, PyPDFDirectoryLoader"
   ]
  },
  {
   "cell_type": "markdown",
   "id": "64b15869-9eb1-496b-ad82-9ca327b8bb23",
   "metadata": {},
   "source": [
    "# Hands-on: Embeddings\n",
    "\n",
    "Vamos converter nossa base de documentos em embeddings. \n",
    "\n",
    "Se você não sabe o que são embeddings, assista aqui: https://www.youtube.com/watch?v=fvRyziDmvoA\n",
    "\n",
    "Utilizaremos o LangChain para simplificar a leitura dos PDFs, geração de chunks e posterior utilização dos dados."
   ]
  },
  {
   "cell_type": "code",
   "execution_count": 7,
   "id": "a1e31600-2298-4ea3-9214-fbfb2885c08c",
   "metadata": {},
   "outputs": [],
   "source": [
    "# Neste exemplo, vou utilizar os embeddings da OpenAI.\n",
    "# Aqui, importamos o LLM e os Embeddings\n",
    "from langchain.llms import OpenAI\n",
    "from langchain.embeddings import OpenAIEmbeddings\n",
    "llm = OpenAI(temperature=0.1)\n",
    "embedding_generator = OpenAIEmbeddings()"
   ]
  },
  {
   "cell_type": "code",
   "execution_count": 8,
   "id": "51e0428a-d262-4926-ac35-1810ddccef12",
   "metadata": {},
   "outputs": [
    {
     "name": "stdout",
     "output_type": "stream",
     "text": [
      "Dimensões no embedding: 1536\n",
      "5 primeiras dimensões do embedding: [0.01560478775073706, -0.026357666071101002, 0.016221111894567722, -0.028770506832908865, -0.031025989467398273]\n"
     ]
    }
   ],
   "source": [
    "#Gerando um embedding para uma pergunta do usuário\n",
    "emb = OpenAIEmbeddings().embed_query(\"Qual o risco do fundo de investimento?\")\n",
    "print(f\"Dimensões no embedding: {len(emb)}\")\n",
    "print(f\"5 primeiras dimensões do embedding: {emb[:5]}\")\n"
   ]
  },
  {
   "cell_type": "markdown",
   "id": "368aca3a-d762-433c-8085-cd144623ad8b",
   "metadata": {},
   "source": [
    "### Dados utilizados no exercício\n",
    "\n",
    "O arquivo utilizado neste exercício está disponível no url: https://conteudos.xpi.com.br/fundos-de-investimento/ip-participacoes-ipg-fic-fia-bdr-nivel-i/\n",
    "\n",
    "Apesar de este conteúdo estar disponível na internet, ele NÃO FOI considerado no treinamento do GPT, por isso o modelo de linguagem não é capaz de responder perguntas sobre este fundo.\n",
    "\n",
    "Baixe o arquivo e grave no diretório \"pdf\""
   ]
  },
  {
   "cell_type": "markdown",
   "id": "11d35541-7c84-4795-bf7c-4105ae0a4caf",
   "metadata": {},
   "source": [
    "### Definindo o Index/Tabela do Cassandra que vai armazenar os dados"
   ]
  },
  {
   "cell_type": "code",
   "execution_count": 9,
   "id": "3e1fa8dd-399e-4e5c-9900-5d486a524eef",
   "metadata": {},
   "outputs": [],
   "source": [
    "# O LangChain possui suporte ao Cassandra, então vamos utilizá-lo\n",
    "# (vamos usar o Astra, que é o Cassandra como serviço)\n",
    "# Criando o índice no Astra\n",
    "\n",
    "from langchain.vectorstores.cassandra import Cassandra\n",
    "table_name = 'vs_investment_kb'\n",
    "keyspace = 'demo'\n",
    "file = './pdf/Lamina_12082452000149_v46.pdf'"
   ]
  },
  {
   "cell_type": "code",
   "execution_count": null,
   "id": "2bd17881-591d-413f-a32b-071e9a7e90c7",
   "metadata": {},
   "outputs": [],
   "source": [
    "# Se necessário, execute este comando para limpar a tabela com os dados\n",
    "#CassVectorStore.clear()"
   ]
  },
  {
   "cell_type": "markdown",
   "id": "99e5b925-d9ef-475c-b00f-646f42e7ded0",
   "metadata": {},
   "source": [
    "## Criando o index e carregando\n",
    "\n",
    "O método IndexCreator executa a criação da tabela e vincula qual modelo de embeddings será utilizado no índice"
   ]
  },
  {
   "cell_type": "code",
   "execution_count": 10,
   "id": "dd667b39-b0c6-49ce-8c6b-eb6defd1571b",
   "metadata": {},
   "outputs": [],
   "source": [
    "index_creator = VectorstoreIndexCreator(\n",
    "    vectorstore_cls=Cassandra,\n",
    "    embedding=embedding_generator,\n",
    "    text_splitter=RecursiveCharacterTextSplitter(\n",
    "        chunk_size=500,\n",
    "        chunk_overlap=30,\n",
    "    ),\n",
    "    vectorstore_kwargs={\n",
    "        'session': cassio.config.resolve_session(),\n",
    "        'keyspace': keyspace,\n",
    "        'table_name': table_name,\n",
    "    },\n",
    ")"
   ]
  },
  {
   "cell_type": "code",
   "execution_count": 11,
   "id": "99bd88bd-ceb2-4157-888d-c855fd2dc8e8",
   "metadata": {},
   "outputs": [
    {
     "name": "stdout",
     "output_type": "stream",
     "text": [
      "Loading file ./pdf/Lamina_12082452000149_v46.pdf\n"
     ]
    }
   ],
   "source": [
    "# Carregando os dados de um fundo de investimento específico\n",
    "#loader = PyPDFDirectoryLoader('./pdf')\n",
    "print(f\"Loading file {file}\")\n",
    "loader = PyPDFLoader(file)\n",
    "index = index_creator.from_loaders([loader])"
   ]
  },
  {
   "cell_type": "code",
   "execution_count": null,
   "id": "4faa0574-4fe5-4dbe-b46b-aceb152483d3",
   "metadata": {},
   "outputs": [],
   "source": [
    "# Carregando os dados de um fundo de investimento específico\n",
    "#loader = PyPDFDirectoryLoader('./funds')\n",
    "#loader = PyPDFLoader(\"./funds/RealInvFIM0623.pdf\")\n",
    "#index = index_creator.from_loaders([loader])"
   ]
  },
  {
   "cell_type": "markdown",
   "id": "99b88c22-fcd8-4904-b3ae-419126b9ffdf",
   "metadata": {},
   "source": [
    "### Se o seu índice já estiver carregado...\n",
    "\n",
    "... você pode referenciá-lo desta maneira."
   ]
  },
  {
   "cell_type": "code",
   "execution_count": null,
   "id": "19fac01f-44ed-414a-8742-f215254b6182",
   "metadata": {},
   "outputs": [],
   "source": [
    "CassVectorStore = Cassandra(\n",
    "    session= cassio.config.resolve_session(),\n",
    "    keyspace= keyspace,\n",
    "    table_name= table_name,\n",
    "    embedding=embedding_generator\n",
    ")\n",
    "\n",
    "index = VectorStoreIndexWrapper(\n",
    "    vectorstore=CassVectorStore\n",
    ")"
   ]
  },
  {
   "cell_type": "markdown",
   "id": "f3c291b4-1f4d-4569-a48f-a50030d88266",
   "metadata": {},
   "source": [
    "### Conferindo os dados gravados\n",
    "\n",
    "Faremos uma query no Vector Store para conferir como os dados foram gravados"
   ]
  },
  {
   "cell_type": "code",
   "execution_count": 12,
   "id": "a3bcffd5-81de-496b-b181-197c037b4356",
   "metadata": {},
   "outputs": [
    {
     "name": "stdout",
     "output_type": "stream",
     "text": [
      "\n",
      "--------------------------------------------------\n",
      "\n",
      "Row 0:\n",
      "    document_id:      7fa1d24ffa214b57b169eb6bcbefb25a\n",
      "    embedding_vector: [-0.0006555379368364811, -0.01693853549659252, 0.000957359443418 ...\n",
      "    metadata_blob:    {'page': '0.0', 'source': './pdf/Lamina_12082452000149_v46.pdf'}\n",
      "    document:         3. POLÍTICA DE  INVESTIMENTOS\n",
      "A política  de investimento  do FUNDO é  manter, no mínimo, 95% (noventa e cinco por cento) do seu patrimônio  líquido aplicado em cotas do IP-\n",
      "PARTICIPAÇÕES INQ FUNDO DE INVESTIMENTO EM AÇÕES  BDR NÍVEL I  (“FUNDO ALVO”),  inscrito no CNPJ  sob nº 28.246.609/0001-64, \n",
      "administrado pela BNY Mellon Serviços Financeiros DTVM  S.A. e gerido pela Investidor Profissional Gestão de Recursos Ltda, bem como em outros ...\n",
      "\n",
      "--------------------------------------------------\n",
      "\n",
      "Row 1:\n",
      "    document_id:      b3986902916d4fafae21a352540f3011\n",
      "    embedding_vector: [-0.02479463256895542, 0.0013354832772165537, 0.0199969727545976 ...\n",
      "    metadata_blob:    {'page': '2.0', 'source': './pdf/Lamina_12082452000149_v46.pdf'}\n",
      "    document:         Variação % do \n",
      "Indice IBXSP-5,01% 3,32% 8,87% 3,59% 1,93% -3,07% -7,59% 3,51% -2,63% -3,11% 5,57% -0,05% 4,16%\n",
      "Contribuição em relação ao  Indice  \n",
      "IBXSP 2 3\n",
      "3,77% 0,70% -1,44% -0,76% 1,42% 3,41% 2,30% 1,41% -0,79% 1,71% -0,27% -2,56% 10,06%\n",
      "  2 Para o cálculo foram consideradas todas as casas decimais disponíveis. \n",
      "3 Com relação ao campo  Contribuição em relação ao Indice IBXSP segue explicação para leitura do resultado: ...\n",
      "\n",
      "--------------------------------------------------\n",
      "\n",
      "Row 2:\n",
      "    document_id:      d2d4492e4a65485388b43ea821cd490f\n",
      "    embedding_vector: [-0.0029728293884545565, -0.025026438757777214, -0.0067862519063 ...\n",
      "    metadata_blob:    {'page': '2.0', 'source': './pdf/Lamina_12082452000149_v46.pdf'}\n",
      "    document:         nem solicitado resgates durante  o ano,  no primeiro dia útil de 2023, você poderia resgatar  R$ 749,34, já  deduzidos impostos no valor de R$  0,00.\n",
      "DESPESAS:  As despesas do fundo, incluindo a taxa de administração,  a taxa de performance  e  as despesas operacionais e de serviços teriam custado \n",
      "R$ 22,16. ...\n",
      "\n",
      "...\n"
     ]
    }
   ],
   "source": [
    "cqlSelect = f\"\"\"SELECT * FROM {keyspace}.{table_name} \n",
    "WHERE metadata_s['source'] = '{file}'\n",
    "LIMIT 3;\"\"\"\n",
    "rows = cassio.config.resolve_session().execute(cqlSelect)\n",
    "for row_i, row in enumerate(rows):\n",
    "    print(f'\\n{\"-\"*50}')\n",
    "    print(f'\\nRow {row_i}:')\n",
    "    print(f'    document_id:      {row.row_id}')\n",
    "    print(f'    embedding_vector: {str(row.vector)[:64]} ...')\n",
    "    print(f'    metadata_blob:    {row.metadata_s}')\n",
    "    print(f'    document:         {row.body_blob} ...')\n",
    "\n",
    "print('\\n...')"
   ]
  },
  {
   "cell_type": "markdown",
   "id": "92ade180-aeb1-40e8-b3e9-c0da3b16f29b",
   "metadata": {},
   "source": [
    "# Hands-on:  Q/A - Utilizando o documento para responder uma pergunta\n",
    "\n",
    "O LangChain possui métodos que buscam documentos similares no index e compõem um prompt para gerar a resposta a uma pergunta.\n",
    "\n",
    "Este método são o ``ìndex.query`` e ``index.query_with_sources``.\n",
    "\n",
    "A diferença entre estes métodos é o tipo de RetrievalChain que são utilizados por cada um.\n"
   ]
  },
  {
   "cell_type": "code",
   "execution_count": 15,
   "id": "23f12a0e-6c63-48b2-8a8a-af4f9361b4d5",
   "metadata": {},
   "outputs": [
    {
     "name": "stdout",
     "output_type": "stream",
     "text": [
      "\n",
      "Resposta com o query_with_sources:\n",
      "\n",
      "\n",
      "\u001b[1m> Entering new RetrievalQAWithSourcesChain chain...\u001b[0m\n",
      "\n",
      "\n",
      "\u001b[1m> Entering new StuffDocumentsChain chain...\u001b[0m\n",
      "\n",
      "\n",
      "\u001b[1m> Entering new LLMChain chain...\u001b[0m\n",
      "Prompt after formatting:\n",
      "\u001b[32;1m\u001b[1;3mGiven the following extracted parts of a long document and a question, create a final answer with references (\"SOURCES\"). \n",
      "If you don't know the answer, just say that you don't know. Don't try to make up an answer.\n",
      "ALWAYS return a \"SOURCES\" part in your answer.\n",
      "\n",
      "QUESTION: Which state/country's law governs the interpretation of the contract?\n",
      "=========\n",
      "Content: This Agreement is governed by English law and the parties submit to the exclusive jurisdiction of the English courts in  relation to any dispute (contractual or non-contractual) concerning this Agreement save that either party may apply to any court for an  injunction or other relief to protect its Intellectual Property Rights.\n",
      "Source: 28-pl\n",
      "Content: No Waiver. Failure or delay in exercising any right or remedy under this Agreement shall not constitute a waiver of such (or any other)  right or remedy.\n",
      "\n",
      "11.7 Severability. The invalidity, illegality or unenforceability of any term (or part of a term) of this Agreement shall not affect the continuation  in force of the remainder of the term (if any) and this Agreement.\n",
      "\n",
      "11.8 No Agency. Except as expressly stated otherwise, nothing in this Agreement shall create an agency, partnership or joint venture of any  kind between the parties.\n",
      "\n",
      "11.9 No Third-Party Beneficiaries.\n",
      "Source: 30-pl\n",
      "Content: (b) if Google believes, in good faith, that the Distributor has violated or caused Google to violate any Anti-Bribery Laws (as  defined in Clause 8.5) or that such a violation is reasonably likely to occur,\n",
      "Source: 4-pl\n",
      "=========\n",
      "FINAL ANSWER: This Agreement is governed by English law.\n",
      "SOURCES: 28-pl\n",
      "\n",
      "QUESTION: What did the president say about Michael Jackson?\n",
      "=========\n",
      "Content: Madam Speaker, Madam Vice President, our First Lady and Second Gentleman. Members of Congress and the Cabinet. Justices of the Supreme Court. My fellow Americans.  \n",
      "\n",
      "Last year COVID-19 kept us apart. This year we are finally together again. \n",
      "\n",
      "Tonight, we meet as Democrats Republicans and Independents. But most importantly as Americans. \n",
      "\n",
      "With a duty to one another to the American people to the Constitution. \n",
      "\n",
      "And with an unwavering resolve that freedom will always triumph over tyranny. \n",
      "\n",
      "Six days ago, Russia’s Vladimir Putin sought to shake the foundations of the free world thinking he could make it bend to his menacing ways. But he badly miscalculated. \n",
      "\n",
      "He thought he could roll into Ukraine and the world would roll over. Instead he met a wall of strength he never imagined. \n",
      "\n",
      "He met the Ukrainian people. \n",
      "\n",
      "From President Zelenskyy to every Ukrainian, their fearlessness, their courage, their determination, inspires the world. \n",
      "\n",
      "Groups of citizens blocking tanks with their bodies. Everyone from students to retirees teachers turned soldiers defending their homeland.\n",
      "Source: 0-pl\n",
      "Content: And we won’t stop. \n",
      "\n",
      "We have lost so much to COVID-19. Time with one another. And worst of all, so much loss of life. \n",
      "\n",
      "Let’s use this moment to reset. Let’s stop looking at COVID-19 as a partisan dividing line and see it for what it is: A God-awful disease.  \n",
      "\n",
      "Let’s stop seeing each other as enemies, and start seeing each other for who we really are: Fellow Americans.  \n",
      "\n",
      "We can’t change how divided we’ve been. But we can change how we move forward—on COVID-19 and other issues we must face together. \n",
      "\n",
      "I recently visited the New York City Police Department days after the funerals of Officer Wilbert Mora and his partner, Officer Jason Rivera. \n",
      "\n",
      "They were responding to a 9-1-1 call when a man shot and killed them with a stolen gun. \n",
      "\n",
      "Officer Mora was 27 years old. \n",
      "\n",
      "Officer Rivera was 22. \n",
      "\n",
      "Both Dominican Americans who’d grown up on the same streets they later chose to patrol as police officers. \n",
      "\n",
      "I spoke with their families and told them that we are forever in debt for their sacrifice, and we will carry on their mission to restore the trust and safety every community deserves.\n",
      "Source: 24-pl\n",
      "Content: And a proud Ukrainian people, who have known 30 years  of independence, have repeatedly shown that they will not tolerate anyone who tries to take their country backwards.  \n",
      "\n",
      "To all Americans, I will be honest with you, as I’ve always promised. A Russian dictator, invading a foreign country, has costs around the world. \n",
      "\n",
      "And I’m taking robust action to make sure the pain of our sanctions  is targeted at Russia’s economy. And I will use every tool at our disposal to protect American businesses and consumers. \n",
      "\n",
      "Tonight, I can announce that the United States has worked with 30 other countries to release 60 Million barrels of oil from reserves around the world.  \n",
      "\n",
      "America will lead that effort, releasing 30 Million barrels from our own Strategic Petroleum Reserve. And we stand ready to do more if necessary, unified with our allies.  \n",
      "\n",
      "These steps will help blunt gas prices here at home. And I know the news about what’s happening can seem alarming. \n",
      "\n",
      "But I want you to know that we are going to be okay.\n",
      "Source: 5-pl\n",
      "Content: More support for patients and families. \n",
      "\n",
      "To get there, I call on Congress to fund ARPA-H, the Advanced Research Projects Agency for Health. \n",
      "\n",
      "It’s based on DARPA—the Defense Department project that led to the Internet, GPS, and so much more.  \n",
      "\n",
      "ARPA-H will have a singular purpose—to drive breakthroughs in cancer, Alzheimer’s, diabetes, and more. \n",
      "\n",
      "A unity agenda for the nation. \n",
      "\n",
      "We can do this. \n",
      "\n",
      "My fellow Americans—tonight , we have gathered in a sacred space—the citadel of our democracy. \n",
      "\n",
      "In this Capitol, generation after generation, Americans have debated great questions amid great strife, and have done great things. \n",
      "\n",
      "We have fought for freedom, expanded liberty, defeated totalitarianism and terror. \n",
      "\n",
      "And built the strongest, freest, and most prosperous nation the world has ever known. \n",
      "\n",
      "Now is the hour. \n",
      "\n",
      "Our moment of responsibility. \n",
      "\n",
      "Our test of resolve and conscience, of history itself. \n",
      "\n",
      "It is in this moment that our character is formed. Our purpose is found. Our future is forged. \n",
      "\n",
      "Well I know this nation.\n",
      "Source: 34-pl\n",
      "=========\n",
      "FINAL ANSWER: The president did not mention Michael Jackson.\n",
      "SOURCES:\n",
      "\n",
      "QUESTION: Qual o rendimento do fundo?\n",
      "=========\n",
      "Content: Assumindo que a última  taxa total de despesas divulgada se  mantenha constante e que  o fundo tenha rentabilidade bruta hipotética de 10% ao ano nos  \n",
      "próximos 3 e 5 anos, o retorno após  as despesas terem sido descontadas, considerando a mesma aplicação inicial de R$ 1.000,00 (mil reais), é \n",
      "apresentado na  tabela abaixo:\n",
      "SIMULAÇÃO DAS DESPESAS 2026 2028\n",
      "Saldo bruto  acumulado  (hipotético - rentabilidade bruta anual de 10%) R$ 1.331,00 R$ 1.610,51\n",
      "Source: ./pdf/Lamina_12082452000149_v46.pdf\n",
      "\n",
      "Content: Rentabilidade acumulada  nos últimos  5 anos: 56,89%  No mesmo período  o Indice IBXSP variou 54,15%. A tabela abaixo mostra  a rentabilidade \n",
      "do fundo a cada ano nos últimos  5 anos. Em 1 ano(s) desses anos, o fundo perdeu parte  do patrimônio que detinha no início  do ano.\n",
      "ANO 2023 2022 2021 2020 2019\n",
      "Rentabilidade\n",
      "(líquida de despesas,  mas não de  \n",
      "impostos)16,95% -25,07% 5,95% 27,59% 34,63%\n",
      "Variação  % do Indice  IBXSP 4,62% 4,02% -11,17% 3,50% 33,39%\n",
      "Contribuição  em \n",
      "relação  ao Indice\n",
      "Source: ./pdf/Lamina_12082452000149_v46.pdf\n",
      "\n",
      "Content: Operações  compromissadas  lastreadas  em  títulos públicos federais\n",
      "10,64%\n",
      "Derivativos 0,86%\n",
      "Cotas de fundos de investimento \n",
      "4090,21%6. RISCO\n",
      "O BNY Mellon Serviços Financeiros classifica os fundos que \n",
      "administ ra numa escala de 1 a 5 de acordo com o risco envolvido  na \n",
      "estratégia de investiment o de cada um deles. Nessa escala,  a \n",
      "classificação  do fundo é: 4,20\n",
      "7. RENTABILIDADE \n",
      "A rentabilidade obtida no passado não representa garantia de resultados futuros.\n",
      "Source: ./pdf/Lamina_12082452000149_v46.pdf\n",
      "\n",
      "Content: nem solicitado resgates durante  o ano,  no primeiro dia útil de 2023, você poderia resgatar  R$ 749,34, já  deduzidos impostos no valor de R$  0,00.\n",
      "DESPESAS:  As despesas do fundo, incluindo a taxa de administração,  a taxa de performance  e  as despesas operacionais e de serviços teriam custado \n",
      "R$ 22,16.\n",
      "Source: ./pdf/Lamina_12082452000149_v46.pdf\n",
      "=========\n",
      "FINAL ANSWER:\u001b[0m\n",
      "\n",
      "\u001b[1m> Finished chain.\u001b[0m\n",
      "\n",
      "\u001b[1m> Finished chain.\u001b[0m\n",
      "\n",
      "\u001b[1m> Finished chain.\u001b[0m\n",
      "{'question': 'Qual o rendimento do fundo?', 'answer': ' O rendimento do fundo nos últimos 5 anos foi de 56,89%, com uma variação do índice IBXSP de 54,15%. As despesas do fundo teriam custado R$ 22,16.\\n', 'sources': './pdf/Lamina_12082452000149_v46.pdf'}\n"
     ]
    }
   ],
   "source": [
    "import langchain\n",
    "langchain.debug = False\n",
    "langchain.verbose = True\n",
    "\n",
    "QUERY = \"Qual o rendimento do fundo?\"\n",
    "\n",
    "print(\"\\nResposta com o query_with_sources:\")\n",
    "print(index.query_with_sources(question=QUERY))"
   ]
  },
  {
   "cell_type": "code",
   "execution_count": 16,
   "id": "ccfb9b75-c563-44c4-99c2-e474e1777070",
   "metadata": {},
   "outputs": [
    {
     "name": "stdout",
     "output_type": "stream",
     "text": [
      "Resposta com o query:\n",
      " O BNY Mellon Serviços Financeiros classifica os fundos que administra numa escala de 1 a 5 de acordo com o risco envolvido na estratégia de investimento de cada um deles. Nessa escala, a classificação do fundo é: 4,20.\n",
      "\n",
      "Resposta com o query_with_sources:\n",
      "{'question': 'Qual o risco do fundo?', 'answer': ' O risco do fundo é classificado como 4,20 na escala de 1 a 5 de acordo com o risco envolvido na estratégia de investimento. O fundo pode aplicar em ativos no exterior até o limite de 20%, em crédito privado até o limite de 33%, em cotas de um mesmo fundo de investimento até o limite de 100% e se alavancar até o limite de 100%.\\n', 'sources': './pdf/Lamina_12082452000149_v46.pdf'}\n"
     ]
    }
   ],
   "source": [
    "import langchain\n",
    "langchain.debug = False\n",
    "langchain.verbose = False\n",
    "\n",
    "QUERY = \"Qual o risco do fundo?\"\n",
    "\n",
    "print(\"Resposta com o query:\")\n",
    "print(index.query(question=QUERY))\n",
    "\n",
    "print(\"\\nResposta com o query_with_sources:\")\n",
    "print(index.query_with_sources(question=QUERY))"
   ]
  },
  {
   "cell_type": "markdown",
   "id": "266f6df3-b988-4da1-b9d2-fa05d032f881",
   "metadata": {},
   "source": [
    "Estes métodos funcionam bem, mas na vida real precisaremos de mais flexibilidade e detalhamento no comportamento do LLM, modificando o prompt para fornecer mais instruções, ou filtrando documentos que queremos que sejam considerados.\n",
    "\n",
    "Por isso, o melhor é usarmos as mesmas Chains utilizadas acima, mas agora podendo especificar mais detalhes. \n",
    "\n",
    "Vamos ver como fazer isso.\n",
    "\n"
   ]
  },
  {
   "cell_type": "markdown",
   "id": "43af7b9d-209e-4e84-a0c5-1042799c7aec",
   "metadata": {},
   "source": [
    "# Hands-on: Q/A passo a passo\n",
    "\n",
    "## Buscando documentos pela similaridade\n",
    "\n",
    "A busca pelos documentos que vão preencher o contexto pode utilizar estratégias distintas.\n",
    "\n",
    "Iniciaremos com a busca por similaridade de vetores."
   ]
  },
  {
   "cell_type": "code",
   "execution_count": 18,
   "id": "3a955974-55a7-457c-bbbd-0bee92dc5b2b",
   "metadata": {},
   "outputs": [
    {
     "name": "stdout",
     "output_type": "stream",
     "text": [
      "[ 0]: \"os riscos do FUNDO, especialmente no sentido de que  rentabilidade passada  não é garantia  de resultados  futuros e que a aplicação em fundos  não \n",
      "contam com garantia do  ADMINISTRADOR, da GESTORA, de qualquer mecanismo de seguro ou do Fundo  Garantidor de Créditos – FGC. Os  \n",
      "Distribuidores são orientados a somente utilizar materiais  de venda do FUNDO previamente avaliados pelo ADMINISTRADOR ou, quando aplicável, pela \n",
      "GESTORA.\"\n",
      "[ 1]: \"garantia junto às centrais depositárias, mas pode investir  em fundos de investimento que podem estar  expostos aos riscos  decorrentes de aplicações \n",
      "em ativos que incorram  em depósito de margem de garantia. As informações apresentadas são  provenientes dos fundos  investidos geridos por \n",
      "instituições ligadas.As estratégias de investimento do fundo podem resultar  em significativas perdas patrimoniais para  seus cotistas.\"\n",
      "[ 2]: \"Operações  compromissadas  lastreadas  em  títulos públicos federais\n",
      "10,64%\n",
      "Derivativos 0,86%\n",
      "Cotas de fundos de investimento \n",
      "4090,21%6. RISCO\n",
      "O BNY Mellon Serviços Financeiros classifica os fundos que \n",
      "administ ra numa escala de 1 a 5 de acordo com o risco envolvido  na \n",
      "estratégia de investiment o de cada um deles. Nessa escala,  a \n",
      "classificação  do fundo é: 4,20\n",
      "7. RENTABILIDADE \n",
      "A rentabilidade obtida no passado não representa garantia de resultados futuros.\"\n",
      "[ 3]: \"títulos e  modalidades operacionais  permitidas pela regulamentação em vigor. O fundo pode:\n",
      "Aplicar em ativos no exterior até o limite de: 20,00%\n",
      "Aplicar em crédi to privado até o limite de: 33,00%\n",
      "Aplicar em  cotas  de um mesmo fundo de investimento: 100,00%\n",
      "Se alavancar até o limite de¹: 100,00%\n",
      "Utiliza derivativos apenas para a proteção da carteira? Não\"\n"
     ]
    }
   ],
   "source": [
    "CassVectorStore = Cassandra(\n",
    "    session= cassio.config.resolve_session(),\n",
    "    keyspace= keyspace,\n",
    "    table_name= table_name,\n",
    "    embedding=embedding_generator\n",
    ")\n",
    "\n",
    "matchesSim = CassVectorStore.search(QUERY, search_type='similarity', k=4)\n",
    "for i, doc in enumerate(matchesSim):\n",
    "    print(f'[{i:2}]: \"{doc.page_content}\"')"
   ]
  },
  {
   "cell_type": "markdown",
   "id": "5bf4bba2-860c-4461-9e02-31e14924c476",
   "metadata": {},
   "source": [
    "## Utilizando a Chain com prompt personalizado\n",
    "Vamos usar estes documentos para preencher o prompt. Note que nos próximos passos iremos importar as Chains e também definir o prompt que queremos utilizar."
   ]
  },
  {
   "cell_type": "code",
   "execution_count": 19,
   "id": "6e7f984e-d2ed-4b78-9359-61cdc04aa888",
   "metadata": {},
   "outputs": [],
   "source": [
    "from langchain.chains.retrieval_qa.base import RetrievalQA\n",
    "from langchain import PromptTemplate"
   ]
  },
  {
   "cell_type": "code",
   "execution_count": 20,
   "id": "fb532949-8c17-49da-a6fe-e7a0d3ffa7f5",
   "metadata": {},
   "outputs": [],
   "source": [
    "prompt_template = \"\"\"\n",
    "Given the following extracted parts of a long document and a question, create a final answer with references (\"SOURCES\"). \n",
    "If you don't know the answer, just say that you don't know. Don't try to make up an answer.\n",
    "ALWAYS return a \"SOURCES\" part in your answer. Answer in Portuguese.\n",
    "\n",
    "\n",
    "QUESTION: {question}\n",
    "=========\n",
    "{summaries}\n",
    "=========\n",
    "FINAL ANSWER:\"\"\"\n",
    "PROMPT = PromptTemplate(\n",
    "    template=prompt_template, input_variables=[\"summaries\", \"question\"]\n",
    ")"
   ]
  },
  {
   "cell_type": "code",
   "execution_count": 23,
   "id": "f59bc0bb-97e4-456b-8639-6f55f5320ed7",
   "metadata": {},
   "outputs": [
    {
     "name": "stdout",
     "output_type": "stream",
     "text": [
      "\n",
      "\n",
      "\u001b[1m> Entering new RetrievalQA chain...\u001b[0m\n",
      "\n",
      "\n",
      "\u001b[1m> Entering new StuffDocumentsChain chain...\u001b[0m\n",
      "\n",
      "\n",
      "\u001b[1m> Entering new LLMChain chain...\u001b[0m\n",
      "Prompt after formatting:\n",
      "\u001b[32;1m\u001b[1;3m\n",
      "Given the following extracted parts of a long document and a question, create a final answer with references (\"SOURCES\"). \n",
      "If you don't know the answer, just say that you don't know. Don't try to make up an answer.\n",
      "ALWAYS return a \"SOURCES\" part in your answer. Answer in Portuguese.\n",
      "\n",
      "\n",
      "QUESTION: Qual o risco do fundo?\n",
      "=========\n",
      "os riscos do FUNDO, especialmente no sentido de que  rentabilidade passada  não é garantia  de resultados  futuros e que a aplicação em fundos  não \n",
      "contam com garantia do  ADMINISTRADOR, da GESTORA, de qualquer mecanismo de seguro ou do Fundo  Garantidor de Créditos – FGC. Os  \n",
      "Distribuidores são orientados a somente utilizar materiais  de venda do FUNDO previamente avaliados pelo ADMINISTRADOR ou, quando aplicável, pela \n",
      "GESTORA.\n",
      "\n",
      "garantia junto às centrais depositárias, mas pode investir  em fundos de investimento que podem estar  expostos aos riscos  decorrentes de aplicações \n",
      "em ativos que incorram  em depósito de margem de garantia. As informações apresentadas são  provenientes dos fundos  investidos geridos por \n",
      "instituições ligadas.As estratégias de investimento do fundo podem resultar  em significativas perdas patrimoniais para  seus cotistas.\n",
      "\n",
      "Operações  compromissadas  lastreadas  em  títulos públicos federais\n",
      "10,64%\n",
      "Derivativos 0,86%\n",
      "Cotas de fundos de investimento \n",
      "4090,21%6. RISCO\n",
      "O BNY Mellon Serviços Financeiros classifica os fundos que \n",
      "administ ra numa escala de 1 a 5 de acordo com o risco envolvido  na \n",
      "estratégia de investiment o de cada um deles. Nessa escala,  a \n",
      "classificação  do fundo é: 4,20\n",
      "7. RENTABILIDADE \n",
      "A rentabilidade obtida no passado não representa garantia de resultados futuros.\n",
      "\n",
      "títulos e  modalidades operacionais  permitidas pela regulamentação em vigor. O fundo pode:\n",
      "Aplicar em ativos no exterior até o limite de: 20,00%\n",
      "Aplicar em crédi to privado até o limite de: 33,00%\n",
      "Aplicar em  cotas  de um mesmo fundo de investimento: 100,00%\n",
      "Se alavancar até o limite de¹: 100,00%\n",
      "Utiliza derivativos apenas para a proteção da carteira? Não\n",
      "=========\n",
      "FINAL ANSWER:\u001b[0m\n",
      "\n",
      "\u001b[1m> Finished chain.\u001b[0m\n",
      "\n",
      "\u001b[1m> Finished chain.\u001b[0m\n",
      "\n",
      "\u001b[1m> Finished chain.\u001b[0m\n",
      "\n",
      "O risco do fundo é classificado como 4,20 na escala de 1 a 5 de acordo com o risco envolvido na estratégia de investimento. Além disso, é importante lembrar que a rentabilidade passada não é garantia de resultados futuros e que o fundo pode aplicar em ativos no exterior até o limite de 20%, em crédito privado até o limite de 33%, em cotas de um mesmo fundo de investimento até o limite de 100% e se alavancar até o limite de 100%.\n",
      "\n",
      "SOURCES:\n",
      "- Documento fornecido.\n"
     ]
    }
   ],
   "source": [
    "langchain.verbose = True\n",
    "\n",
    "retrieverSim = CassVectorStore.as_retriever(\n",
    "    search_type='similarity',\n",
    "    search_kwargs={\n",
    "        'k': 4,\n",
    "        'filter': {\"source\": file}\n",
    "    },\n",
    ")\n",
    "\n",
    "# Create a \"RetrievalQA\" chain\n",
    "chainSim = RetrievalQA.from_chain_type(\n",
    "    llm=llm,\n",
    "    retriever=retrieverSim,\n",
    "    chain_type_kwargs={\n",
    "        'prompt': PROMPT,\n",
    "        'document_variable_name': 'summaries'\n",
    "    }\n",
    ")\n",
    "# Run it and print results\n",
    "responseSim = chainSim.run(QUERY)\n",
    "print(responseSim)"
   ]
  },
  {
   "cell_type": "code",
   "execution_count": 24,
   "id": "dcd63e2c-3138-46a6-8d46-0c7ff14eaaed",
   "metadata": {},
   "outputs": [
    {
     "name": "stdout",
     "output_type": "stream",
     "text": [
      "\n",
      "\n",
      "\u001b[1m> Entering new RetrievalQA chain...\u001b[0m\n",
      "\n",
      "\n",
      "\u001b[1m> Entering new StuffDocumentsChain chain...\u001b[0m\n",
      "\n",
      "\n",
      "\u001b[1m> Entering new LLMChain chain...\u001b[0m\n",
      "Prompt after formatting:\n",
      "\u001b[32;1m\u001b[1;3m\n",
      "Given the following extracted parts of a long document and a question, create a final answer with references (\"SOURCES\"). \n",
      "If you don't know the answer, just say that you don't know. Don't try to make up an answer.\n",
      "ALWAYS return a \"SOURCES\" part in your answer. Answer in Portuguese.\n",
      "\n",
      "\n",
      "QUESTION: Qual o risco do fundo?\n",
      "=========\n",
      "os riscos do FUNDO, especialmente no sentido de que  rentabilidade passada  não é garantia  de resultados  futuros e que a aplicação em fundos  não \n",
      "contam com garantia do  ADMINISTRADOR, da GESTORA, de qualquer mecanismo de seguro ou do Fundo  Garantidor de Créditos – FGC. Os  \n",
      "Distribuidores são orientados a somente utilizar materiais  de venda do FUNDO previamente avaliados pelo ADMINISTRADOR ou, quando aplicável, pela \n",
      "GESTORA.\n",
      "\n",
      "Operações  compromissadas  lastreadas  em  títulos públicos federais\n",
      "10,64%\n",
      "Derivativos 0,86%\n",
      "Cotas de fundos de investimento \n",
      "4090,21%6. RISCO\n",
      "O BNY Mellon Serviços Financeiros classifica os fundos que \n",
      "administ ra numa escala de 1 a 5 de acordo com o risco envolvido  na \n",
      "estratégia de investiment o de cada um deles. Nessa escala,  a \n",
      "classificação  do fundo é: 4,20\n",
      "7. RENTABILIDADE \n",
      "A rentabilidade obtida no passado não representa garantia de resultados futuros.\n",
      "\n",
      "títulos e  modalidades operacionais  permitidas pela regulamentação em vigor. O fundo pode:\n",
      "Aplicar em ativos no exterior até o limite de: 20,00%\n",
      "Aplicar em crédi to privado até o limite de: 33,00%\n",
      "Aplicar em  cotas  de um mesmo fundo de investimento: 100,00%\n",
      "Se alavancar até o limite de¹: 100,00%\n",
      "Utiliza derivativos apenas para a proteção da carteira? Não\n",
      "\n",
      "nem solicitado resgates durante  o ano,  no primeiro dia útil de 2023, você poderia resgatar  R$ 749,34, já  deduzidos impostos no valor de R$  0,00.\n",
      "DESPESAS:  As despesas do fundo, incluindo a taxa de administração,  a taxa de performance  e  as despesas operacionais e de serviços teriam custado \n",
      "R$ 22,16.\n",
      "=========\n",
      "FINAL ANSWER:\u001b[0m\n",
      "\n",
      "\u001b[1m> Finished chain.\u001b[0m\n",
      "\n",
      "\u001b[1m> Finished chain.\u001b[0m\n",
      "\n",
      "\u001b[1m> Finished chain.\u001b[0m\n",
      "\n",
      "O risco do fundo é classificado pela BNY Mellon Serviços Financeiros numa escala de 1 a 5, sendo 4,20. O fundo pode aplicar em ativos no exterior até o limite de 20%, em crédito privado até o limite de 33%, em cotas de um mesmo fundo de investimento até 100% e se alavancar até o limite de 100%. Além disso, não utiliza derivativos para a proteção da carteira. No entanto, é importante lembrar que a rentabilidade passada não é garantia de resultados futuros e que não há garantia do administrador, gestora, mecanismo de seguro ou do Fundo Garantidor de Créditos - FGC.\n",
      "\n",
      "SOURCES:\n",
      "- BNY Mellon Serviços Financeiros. \"Fundo\". Disponível em: <https://www.bnymellon.com.br/pt_br/investment-\n"
     ]
    }
   ],
   "source": [
    "# Busca com MMR (Maximal Marginal Relevance)\n",
    "retrieverMMR = CassVectorStore.as_retriever(\n",
    "    search_type='mmr',\n",
    "    search_kwargs={\n",
    "        'k': 4,\n",
    "        'fetch_k': 10,\n",
    "    },\n",
    "    return_source_documents=True\n",
    ")\n",
    "\n",
    "# Create a \"RetrievalQA\" chain\n",
    "chainMMR = RetrievalQA.from_chain_type(\n",
    "    llm=llm,\n",
    "    retriever=retrieverMMR,\n",
    "    chain_type_kwargs={\n",
    "        'prompt': PROMPT,\n",
    "        'document_variable_name': 'summaries'\n",
    "    }\n",
    ")\n",
    "# Run it and print results\n",
    "responseMMR = chainMMR.run(QUERY)\n",
    "print(responseMMR)"
   ]
  },
  {
   "cell_type": "markdown",
   "id": "c4dead09-73a0-4955-986f-69f90b06f62a",
   "metadata": {},
   "source": [
    "# Hands-on: Memória adicionando memória ao contexto\n",
    "\n",
    "Após a primeira interação, as interações podem demandar que o contexto da conversação seja considerado nas próximas interações.\n",
    "\n",
    "Para isso, é necessário registrarmos as mensagens também no banco de dados"
   ]
  },
  {
   "cell_type": "code",
   "execution_count": 25,
   "id": "192e9b1c-de63-40d7-babf-66f86df50722",
   "metadata": {},
   "outputs": [],
   "source": [
    "from langchain.memory import CassandraChatMessageHistory\n",
    "from langchain.memory import ConversationSummaryBufferMemory\n",
    "memory_table_name = 'vs_investment_memory'"
   ]
  },
  {
   "cell_type": "code",
   "execution_count": 26,
   "id": "b93f4f75-0240-4949-9e95-0b8ed862363d",
   "metadata": {},
   "outputs": [
    {
     "name": "stdout",
     "output_type": "stream",
     "text": [
      "====================\n",
      "Query: Qual o risco do fundo?\n",
      " O risco do fundo é classificado como 4,20 na escala de 1 a 5, e pode aplicar em ativos no exterior até 20%, crédito privado até 33%, cotas de um mesmo fundo de investimento até 100% e se alavancar até 100%.\n"
     ]
    }
   ],
   "source": [
    "def get_answer(conversation_id, q):\n",
    "    prompt_template = \"\"\"\n",
    "    Given the following extracted parts of a long document and a question, create a final answer in a very short format. \n",
    "    If you don't know the answer, just say that you don't know. Don't try to make up an answer.\n",
    "    Answer in Portuguese.\n",
    "\n",
    "\n",
    "    QUESTION: {question}\n",
    "    =========\n",
    "    {summaries}\n",
    "    =========\n",
    "    FINAL ANSWER:\"\"\"\n",
    "\n",
    "    PROMPT = PromptTemplate(\n",
    "        template=prompt_template, input_variables=[\"summaries\", \"question\"]\n",
    "    )\n",
    "\n",
    "    message_history = CassandraChatMessageHistory(\n",
    "        session_id=conversation_id,\n",
    "        session= cassio.config.resolve_session(),\n",
    "        keyspace= cassio.config.resolve_keyspace(),\n",
    "        ttl_seconds=3600,\n",
    "        table_name=memory_table_name\n",
    "    )\n",
    "\n",
    "    memory = ConversationSummaryBufferMemory(\n",
    "        llm=llm,\n",
    "        chat_memory=message_history,\n",
    "        max_token_limit=50,\n",
    "        buffer=\"\"\n",
    "    )\n",
    "\n",
    "    retrieverSim = CassVectorStore.as_retriever(\n",
    "        search_type='similarity_score_threshold',\n",
    "        search_kwargs={\n",
    "            'k': 5,\n",
    "            \"score_threshold\": .8\n",
    "        },\n",
    "    )\n",
    "    \n",
    "    # Create a \"RetrievalQA\" chain\n",
    "    chainSim = RetrievalQA.from_chain_type(\n",
    "        llm=llm,\n",
    "        retriever=retrieverSim,\n",
    "        memory=memory,\n",
    "        chain_type_kwargs={\n",
    "            'prompt': PROMPT,\n",
    "            'document_variable_name': 'summaries'\n",
    "        }\n",
    "    )\n",
    "    \n",
    "    # Run it and print results\n",
    "    answer = chainSim.run(q)\n",
    "\n",
    "    return answer\n",
    "\n",
    "langchain.debug = False\n",
    "langchain.verbose = False\n",
    "\n",
    "res = get_answer('my_conv2',QUERY)\n",
    "print(\"=\"*20)\n",
    "print(f\"Query: {QUERY}\")\n",
    "print(res)"
   ]
  },
  {
   "cell_type": "code",
   "execution_count": 29,
   "id": "362eed7a-10ae-44e0-9a61-0fd1ab7ab3f9",
   "metadata": {},
   "outputs": [],
   "source": [
    "from langchain.chains import ConversationalRetrievalChain\n",
    "\n",
    "def get_answer(conversation_id, q):\n",
    "    prompt_template = \"\"\"\n",
    "    Given the following extracted parts of a long document and a question, create a final answer in a very short format. \n",
    "    If you don't know the answer, just say that you don't know. Don't try to make up an answer.\n",
    "    Answer in Portuguese.\n",
    "\n",
    "\n",
    "    QUESTION: {question}\n",
    "    =========\n",
    "    Chat History:\n",
    "    ========\n",
    "    {chat_history}\n",
    "    ========\n",
    "    {summaries}\n",
    "    =========\n",
    "    FINAL ANSWER:\"\"\"\n",
    "\n",
    "    PROMPT = PromptTemplate(\n",
    "        template=prompt_template, input_variables=[\"summaries\", \"question\",\"chat_history\"]\n",
    "    )\n",
    "\n",
    "    message_history = CassandraChatMessageHistory(\n",
    "        session_id=conversation_id,\n",
    "        session= cassio.config.resolve_session(),\n",
    "        keyspace= cassio.config.resolve_keyspace(),\n",
    "        ttl_seconds=3600,\n",
    "        table_name=memory_table_name\n",
    "    )\n",
    "\n",
    "    memory = ConversationSummaryBufferMemory(\n",
    "        llm=llm,\n",
    "        chat_memory=message_history,\n",
    "        max_token_limit=50,\n",
    "        buffer=\"\",\n",
    "        return_messages=True,\n",
    "        memory_key=\"chat_history\"\n",
    "    )\n",
    "\n",
    "    retrieverSim = CassVectorStore.as_retriever(\n",
    "        search_type='similarity_score_threshold',\n",
    "        search_kwargs={\n",
    "            'k': 5,\n",
    "            'filter': {\"source\": file},\n",
    "            \"score_threshold\": .8\n",
    "        },\n",
    "    )\n",
    "\n",
    "    qa = ConversationalRetrievalChain.from_llm(\n",
    "        llm=llm,\n",
    "        retriever = retrieverSim,\n",
    "        memory=memory\n",
    "    )\n",
    "\n",
    "    answer = qa({\"question\": q})\n",
    "    \n",
    "    return answer"
   ]
  },
  {
   "cell_type": "code",
   "execution_count": 32,
   "id": "45b099b6-39aa-44a9-b505-8aa5a2248826",
   "metadata": {},
   "outputs": [
    {
     "name": "stdout",
     "output_type": "stream",
     "text": [
      "\n",
      "\n",
      "\u001b[1m> Entering new ConversationalRetrievalChain chain...\u001b[0m\n",
      "\n",
      "\u001b[1m> Finished chain.\u001b[0m\n",
      "\n",
      "\n",
      "\u001b[1m> Entering new LLMChain chain...\u001b[0m\n",
      "Prompt after formatting:\n",
      "\u001b[32;1m\u001b[1;3mProgressively summarize the lines of conversation provided, adding onto the previous summary returning a new summary.\n",
      "\n",
      "EXAMPLE\n",
      "Current summary:\n",
      "The human asks what the AI thinks of artificial intelligence. The AI thinks artificial intelligence is a force for good.\n",
      "\n",
      "New lines of conversation:\n",
      "Human: Why do you think artificial intelligence is a force for good?\n",
      "AI: Because artificial intelligence will help humans reach their full potential.\n",
      "\n",
      "New summary:\n",
      "The human asks what the AI thinks of artificial intelligence. The AI thinks artificial intelligence is a force for good because it will help humans reach their full potential.\n",
      "END OF EXAMPLE\n",
      "\n",
      "Current summary:\n",
      "\n",
      "\n",
      "New lines of conversation:\n",
      "Human: Qual o rendimento?\n",
      "AI:  Não sei.\n",
      "Human: Qual o rendimento?\n",
      "AI:  O rendimento acumulado nos últimos 5 anos foi de 56,89%.\n",
      "Human: Qual o risco do fundo?\n",
      "AI:  O BNY Mellon Serviços Financeiros classifica os fundos que administra numa escala de 1 a 5 de acordo com o risco envolvido na estratégia de investimento de cada um deles. Nessa escala, a classificação do fundo é: 4,20.\n",
      "\n",
      "New summary:\u001b[0m\n",
      "\n",
      "\u001b[1m> Finished chain.\u001b[0m\n",
      "====================\n",
      "{'question': 'Quanto dinheiro o fundo tem?', 'chat_history': [HumanMessage(content='Qual o rendimento?'), AIMessage(content=' Não sei.'), HumanMessage(content='Qual o rendimento?'), AIMessage(content=' O rendimento acumulado nos últimos 5 anos foi de 56,89%.'), HumanMessage(content='Qual o risco do fundo?'), AIMessage(content=' O BNY Mellon Serviços Financeiros classifica os fundos que administra numa escala de 1 a 5 de acordo com o risco envolvido na estratégia de investimento de cada um deles. Nessa escala, a classificação do fundo é: 4,20.')], 'answer': ' O patrimônio líquido do fundo é de R$ 477.391.971,64.'}\n"
     ]
    }
   ],
   "source": [
    "langchain.debug = False\n",
    "langchain.verbose = True\n",
    "res = get_answer('my_conv3',\"Quanto dinheiro o fundo tem?\")\n",
    "print(\"=\"*20)\n",
    "print(res)"
   ]
  },
  {
   "cell_type": "code",
   "execution_count": null,
   "id": "0025eaf0-f950-4a46-b101-5d49cddebfe0",
   "metadata": {},
   "outputs": [],
   "source": []
  }
 ],
 "metadata": {
  "kernelspec": {
   "display_name": "Python 3 (ipykernel)",
   "language": "python",
   "name": "python3"
  },
  "language_info": {
   "codemirror_mode": {
    "name": "ipython",
    "version": 3
   },
   "file_extension": ".py",
   "mimetype": "text/x-python",
   "name": "python",
   "nbconvert_exporter": "python",
   "pygments_lexer": "ipython3",
   "version": "3.9.4"
  }
 },
 "nbformat": 4,
 "nbformat_minor": 5
}
